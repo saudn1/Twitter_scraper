{
 "cells": [
  {
   "cell_type": "code",
   "execution_count": 1,
   "id": "e5f33ae4",
   "metadata": {},
   "outputs": [],
   "source": [
    "import tweepy\n",
    "import configparser\n",
    "import pandas as pd"
   ]
  },
  {
   "cell_type": "code",
   "execution_count": 3,
   "id": "4e90caa2",
   "metadata": {},
   "outputs": [
    {
     "name": "stdout",
     "output_type": "stream",
     "text": [
      "Collecting configparser\n",
      "  Downloading configparser-5.2.0-py3-none-any.whl (19 kB)\n",
      "Installing collected packages: configparser\n",
      "Successfully installed configparser-5.2.0\n"
     ]
    }
   ],
   "source": [
    "#if not installed\n",
    "#also restart kernel after installatation\n",
    "\n",
    "#!pip install tweepy \n",
    "#!pip install configparser\n"
   ]
  },
  {
   "cell_type": "code",
   "execution_count": 6,
   "id": "2b2636e6",
   "metadata": {},
   "outputs": [],
   "source": [
    "config = configparser.ConfigParser()\n",
    "config.read('config.ini')\n",
    "\n",
    "api_key = config['twitter']['api_key']\n",
    "api_key_secret = config['twitter']['api_key_secret']\n",
    "\n",
    "access_token = config['twitter']['access_token']\n",
    "access_token_secret = config['twitter']['access_token_secret']\n",
    "\n",
    "# authentication\n",
    "auth = tweepy.OAuthHandler(api_key, api_key_secret)\n",
    "auth.set_access_token(access_token, access_token_secret)\n",
    "\n",
    "api = tweepy.API(auth)\n",
    "\n",
    "public_tweets = api.home_timeline()\n"
   ]
  },
  {
   "cell_type": "code",
   "execution_count": 7,
   "id": "ecea1d56",
   "metadata": {},
   "outputs": [],
   "source": [
    "# create dataframe\n",
    "columns = ['Time', 'User', 'Tweet']\n",
    "data = []\n",
    "for tweet in public_tweets:\n",
    "    data.append([tweet.created_at, tweet.user.screen_name, tweet.text])\n",
    "\n",
    "df = pd.DataFrame(data, columns=columns)\n",
    "\n"
   ]
  },
  {
   "cell_type": "code",
   "execution_count": 8,
   "id": "bd36baca",
   "metadata": {},
   "outputs": [
    {
     "name": "stdout",
     "output_type": "stream",
     "text": [
      "                        Time            User  \\\n",
      "0  2022-01-31 21:40:32+00:00          B4NKAl   \n",
      "1  2022-01-31 21:40:21+00:00   SkySportsNews   \n",
      "2  2022-01-31 21:40:19+00:00      PSG_inside   \n",
      "3  2022-01-31 21:40:14+00:00   cleantechnica   \n",
      "4  2022-01-31 21:40:08+00:00         Polygon   \n",
      "5  2022-01-31 21:40:06+00:00        business   \n",
      "6  2022-01-31 21:40:05+00:00         nytimes   \n",
      "7  2022-01-31 21:40:05+00:00        VICENews   \n",
      "8  2022-01-31 21:40:04+00:00          Forbes   \n",
      "9  2022-01-31 21:40:00+00:00        mashable   \n",
      "10 2022-01-31 21:39:51+00:00       HYPEBEAST   \n",
      "11 2022-01-31 21:39:35+00:00        Techmeme   \n",
      "12 2022-01-31 21:39:26+00:00     CBCBusiness   \n",
      "13 2022-01-31 21:39:07+00:00      KicksDeals   \n",
      "14 2022-01-31 21:39:06+00:00      PSG_inside   \n",
      "15 2022-01-31 21:39:03+00:00        business   \n",
      "16 2022-01-31 21:38:36+00:00        business   \n",
      "17 2022-01-31 21:38:35+00:00      PSG_inside   \n",
      "18 2022-01-31 21:38:21+00:00         Wario64   \n",
      "19 2022-01-31 21:38:11+00:00  SmartOptionsAi   \n",
      "\n",
      "                                                Tweet  \n",
      "0                                      Darwin Nunez 👎  \n",
      "1   BREAKING: Rangers have signed Aaron Ramsey on ...  \n",
      "2   68’ Quelle action de Verratti encore ! Il a fa...  \n",
      "3   Learning Chinese: Be A Better Cleantech Advoca...  \n",
      "4   So, Iron Man is a god now, and his first act w...  \n",
      "5   Sales of bonds with sustainable targets have j...  \n",
      "6   The art form known as the celebrity pregnancy ...  \n",
      "7   Allison Fluke-Ekren just made her first court ...  \n",
      "8   When 'Destiny 2' is predicted to pick up its s...  \n",
      "9   Fold, fold, fold your boat! https://t.co/EjbWp...  \n",
      "10  The Nike Air Zoom Flight 95 Returns in OG \"Bla...  \n",
      "11  The New York Times acquires Wordle, the simple...  \n",
      "12  Shopify CEO Tobi Lütke to join board at crypto...  \n",
      "13         RT @Timiah_SweetTea: Copped!! #WNBATwitter  \n",
      "14                                Ça ne donne rien...  \n",
      "15  Popular programs like Schedulicity, Acuity and...  \n",
      "16  A federal judge rejected a plea deal struck by...  \n",
      "17  66' Très bon coup franc pour le @PSG_inside (0...  \n",
      "18  The New York Times Buys Wordle for a price \"in...  \n",
      "19  SmartOptions® Unusual Activity Alert\\n(Delayed...  \n"
     ]
    }
   ],
   "source": [
    "print(df)"
   ]
  },
  {
   "cell_type": "code",
   "execution_count": 9,
   "id": "6a1e2567",
   "metadata": {},
   "outputs": [],
   "source": [
    "#user tweets\n",
    "user = '@fema'\n",
    "limit=901\n",
    "\n",
    "tweets = tweepy.Cursor(api.user_timeline, screen_name=user, count=200, tweet_mode='extended').items(limit)"
   ]
  },
  {
   "cell_type": "code",
   "execution_count": 10,
   "id": "faba9663",
   "metadata": {},
   "outputs": [],
   "source": [
    "keywords = 'flood'\n",
    "\n",
    "tweets = tweepy.Cursor(api.search_tweets, q=keywords, count=100, tweet_mode='extended').items(limit)"
   ]
  },
  {
   "cell_type": "code",
   "execution_count": 11,
   "id": "95a30c32",
   "metadata": {},
   "outputs": [],
   "source": [
    "columns = ['User', 'Tweet']\n",
    "data = []\n",
    "\n",
    "for tweet in tweets:\n",
    "    data.append([tweet.user.screen_name, tweet.full_text])\n",
    "\n",
    "df = pd.DataFrame(data, columns=columns)"
   ]
  },
  {
   "cell_type": "code",
   "execution_count": 12,
   "id": "8f946e12",
   "metadata": {},
   "outputs": [
    {
     "data": {
      "text/html": [
       "<div>\n",
       "<style scoped>\n",
       "    .dataframe tbody tr th:only-of-type {\n",
       "        vertical-align: middle;\n",
       "    }\n",
       "\n",
       "    .dataframe tbody tr th {\n",
       "        vertical-align: top;\n",
       "    }\n",
       "\n",
       "    .dataframe thead th {\n",
       "        text-align: right;\n",
       "    }\n",
       "</style>\n",
       "<table border=\"1\" class=\"dataframe\">\n",
       "  <thead>\n",
       "    <tr style=\"text-align: right;\">\n",
       "      <th></th>\n",
       "      <th>User</th>\n",
       "      <th>Tweet</th>\n",
       "    </tr>\n",
       "  </thead>\n",
       "  <tbody>\n",
       "    <tr>\n",
       "      <th>0</th>\n",
       "      <td>prudinx</td>\n",
       "      <td>RT @RobMax4: Streets flooded and rivers rising...</td>\n",
       "    </tr>\n",
       "    <tr>\n",
       "      <th>1</th>\n",
       "      <td>DomainforTruth</td>\n",
       "      <td>RT @PiltdownSupermn: BioLogos: House of Heresy...</td>\n",
       "    </tr>\n",
       "    <tr>\n",
       "      <th>2</th>\n",
       "      <td>isaacylaciudad</td>\n",
       "      <td>@b_jan13 @Xim_Neri This stunning video was cre...</td>\n",
       "    </tr>\n",
       "    <tr>\n",
       "      <th>3</th>\n",
       "      <td>mikthenobody</td>\n",
       "      <td>RT @OpenYourWallett: They have $0 https://t.co...</td>\n",
       "    </tr>\n",
       "    <tr>\n",
       "      <th>4</th>\n",
       "      <td>mmitasareru_</td>\n",
       "      <td>RT @Flashyasf: Don’t let shit slide.. That’s h...</td>\n",
       "    </tr>\n",
       "  </tbody>\n",
       "</table>\n",
       "</div>"
      ],
      "text/plain": [
       "             User                                              Tweet\n",
       "0         prudinx  RT @RobMax4: Streets flooded and rivers rising...\n",
       "1  DomainforTruth  RT @PiltdownSupermn: BioLogos: House of Heresy...\n",
       "2  isaacylaciudad  @b_jan13 @Xim_Neri This stunning video was cre...\n",
       "3    mikthenobody  RT @OpenYourWallett: They have $0 https://t.co...\n",
       "4    mmitasareru_  RT @Flashyasf: Don’t let shit slide.. That’s h..."
      ]
     },
     "execution_count": 12,
     "metadata": {},
     "output_type": "execute_result"
    }
   ],
   "source": [
    "df.head()"
   ]
  },
  {
   "cell_type": "code",
   "execution_count": 14,
   "id": "7813c145",
   "metadata": {},
   "outputs": [
    {
     "data": {
      "text/plain": [
       "(901, 2)"
      ]
     },
     "execution_count": 14,
     "metadata": {},
     "output_type": "execute_result"
    }
   ],
   "source": [
    "df.shape"
   ]
  },
  {
   "cell_type": "code",
   "execution_count": null,
   "id": "74e0ba12",
   "metadata": {},
   "outputs": [],
   "source": []
  },
  {
   "cell_type": "code",
   "execution_count": null,
   "id": "06844392",
   "metadata": {},
   "outputs": [],
   "source": []
  },
  {
   "cell_type": "code",
   "execution_count": null,
   "id": "f27d1568",
   "metadata": {},
   "outputs": [],
   "source": []
  }
 ],
 "metadata": {
  "kernelspec": {
   "display_name": "Python 3 (ipykernel)",
   "language": "python",
   "name": "python3"
  },
  "language_info": {
   "codemirror_mode": {
    "name": "ipython",
    "version": 3
   },
   "file_extension": ".py",
   "mimetype": "text/x-python",
   "name": "python",
   "nbconvert_exporter": "python",
   "pygments_lexer": "ipython3",
   "version": "3.8.12"
  }
 },
 "nbformat": 4,
 "nbformat_minor": 5
}
